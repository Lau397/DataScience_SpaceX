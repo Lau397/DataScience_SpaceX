{
 "cells": [
  {
   "cell_type": "markdown",
   "metadata": {},
   "source": [
    "<center>\n",
    "    <img src=\"https://cf-courses-data.s3.us.cloud-object-storage.appdomain.cloud/IBMDeveloperSkillsNetwork-DS0105EN-SkillsNetwork/labs/Module2/images/SN_web_lightmode.png\" width=\"300\" alt=\"cognitiveclass.ai logo\">\n",
    "</center>\n"
   ]
  },
  {
   "cell_type": "markdown",
   "metadata": {},
   "source": [
    "#### Add your code below following the instructions given in the course\n"
   ]
  },
  {
   "cell_type": "markdown",
   "metadata": {},
   "source": [
    "*Exercise 2 - Create a markdown cell with the title of the notebook. (1 pt)*\n",
    "\n",
    "# *My notebook♥*"
   ]
  },
  {
   "cell_type": "markdown",
   "metadata": {},
   "source": [
    "*Exercise 3 - Create a markdown cell for an introduction. (1 pt)*\n",
    "\n",
    "\n",
    "This markdown cell contains an introduction to this notebook. This notebook displays the result of very straight-forward steps when creating cells with certain criteria delivered as instructions from the IBM Data Science professional certificate course: Tools for Data Science."
   ]
  },
  {
   "cell_type": "markdown",
   "metadata": {
    "tags": []
   },
   "source": [
    "*Exercise 4 - Create a markdown cell to list data science languages. (3 pts)*\n",
    "\n",
    "\n",
    "Data Science languages (some of them):\n",
    "-    Python\n",
    "-    R\n",
    "-    SQL\n",
    "-    MATLAB\n",
    "-    Julia\n",
    "-    Scala"
   ]
  },
  {
   "cell_type": "markdown",
   "metadata": {},
   "source": [
    "*Exercise 5 - Create a markdown cell to list data science libraries. (3 pts)*\n",
    "\n",
    "Data Science libraries (some of them):\n",
    "\n",
    "- Sci-kit Learn\n",
    "- Pandas\n",
    "- NumPy\n",
    "- TensoFlow\n",
    "- Matplotlib\n",
    "- Keras"
   ]
  },
  {
   "cell_type": "markdown",
   "metadata": {},
   "source": [
    "*Exercise 6 - Create a markdown cell with a table of Data Science tools. (3 pts)*\n",
    "\n",
    "Some Programming, Libraries and Data Cleaning tools in Data Science:\n",
    "\n",
    "\n",
    "| Programming | Libraries | Data Cleaning |\n",
    "|:--------:|:--------:|:--------:|\n",
    "|  Python   |  Keras   |  Python   |\n",
    "|  R   |  PyTorch   |  Excel   |\n",
    "|  VSCode   |  SciPy   |  SQL   |"
   ]
  },
  {
   "cell_type": "markdown",
   "metadata": {},
   "source": [
    "*Exercise 7 - Create a markdown cell introducing arithmetic expression examples. (1 pt)*\n",
    "\n",
    "\n",
    "$\\hat{Y} = \\hat{\\beta}_{0} + \\sum \\limits _{i=2.2} ^{j=111} X_{j}\\hat{\\beta}_{j} $"
   ]
  },
  {
   "cell_type": "code",
   "execution_count": 1,
   "metadata": {
    "tags": []
   },
   "outputs": [
    {
     "data": {
      "text/plain": [
       "54"
      ]
     },
     "execution_count": 1,
     "metadata": {},
     "output_type": "execute_result"
    }
   ],
   "source": [
    "# Exercise 8 - Create a code cell to multiply and add numbers. (2 pts)\n",
    "\n",
    "a = 9\n",
    "b = 6\n",
    "\n",
    "c = a*b\n",
    "c"
   ]
  },
  {
   "cell_type": "code",
   "execution_count": 2,
   "metadata": {
    "tags": []
   },
   "outputs": [
    {
     "data": {
      "text/plain": [
       "5.55"
      ]
     },
     "execution_count": 2,
     "metadata": {},
     "output_type": "execute_result"
    }
   ],
   "source": [
    "# Exercise 9 - Create a code cell to convert minutes to hours. (2 pts)\n",
    "\n",
    "minute = 333\n",
    "\n",
    "hours = minute/60\n",
    "\n",
    "hours"
   ]
  },
  {
   "cell_type": "markdown",
   "metadata": {},
   "source": [
    "*Exercise 10 -Insert a markdown cell to list Objectives. (3 pts)*\n",
    "\n",
    "* Study and practice two different types of cells in a Jupyter Notebook: Code and Markdown\n",
    "* Display examples of code cell and markdown cells\n",
    "* Deliver a file with all the exercises solved"
   ]
  },
  {
   "cell_type": "markdown",
   "metadata": {
    "tags": []
   },
   "source": [
    "*Exercise 11 - Create a markdown cell to indicate the Author’s name. (2 pts)*\n",
    "\n",
    "Author's name:\n",
    "    \n",
    "**Laura M♥**   \n",
    "*Data Science Engineer*"
   ]
  }
 ],
 "metadata": {
  "kernelspec": {
   "display_name": "Python",
   "language": "python",
   "name": "conda-env-python-py"
  },
  "language_info": {
   "codemirror_mode": {
    "name": "ipython",
    "version": 3
   },
   "file_extension": ".py",
   "mimetype": "text/x-python",
   "name": "python",
   "nbconvert_exporter": "python",
   "pygments_lexer": "ipython3",
   "version": "3.7.12"
  }
 },
 "nbformat": 4,
 "nbformat_minor": 4
}
